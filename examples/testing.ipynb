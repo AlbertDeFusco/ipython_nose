{
 "cells": [
  {
   "cell_type": "markdown",
   "metadata": {},
   "source": [
    "# Project testing"
   ]
  },
  {
   "cell_type": "markdown",
   "metadata": {},
   "source": [
    "# Table of Contents\n",
    "* [Project testing](#Project-testing)\n",
    "\t* [Packages](#Packages)\n",
    "\t* [Testing idoms](#Testing-idoms)\n",
    "\t\t* [single functions](#single-functions)\n",
    "\t\t* [generators](#generators)\n",
    "\t\t* [classes](#classes)\n",
    "\t\t* [module fixtures](#module-fixtures)\n",
    "\t* [How tests fail](#How-tests-fail)\n",
    "\t\t* [by assertion](#by-assertion)\n",
    "\t\t* [by exceptions](#by-exceptions)\n",
    "\t\t\t* [no tests found??](#no-tests-found??)\n",
    "\t\t* [by crashing nose](#by-crashing-nose)\n"
   ]
  },
  {
   "cell_type": "markdown",
   "metadata": {},
   "source": [
    "## Packages"
   ]
  },
  {
   "cell_type": "markdown",
   "metadata": {},
   "source": [
    "```\n",
    "(base)> conda create -n ipy_tests python=3 numpy jupyter nose pip\n",
    "(base)> conda activate testing\n",
    "(testing)> pip install git+https://github.com/datacamp/ipython_nose@v0.4.1\n",
    "(testing)> jupyter notebook testing.ipynb\n",
    "```"
   ]
  },
  {
   "cell_type": "code",
   "execution_count": 1,
   "metadata": {
    "scrolled": true
   },
   "outputs": [
    {
     "name": "stdout",
     "output_type": "stream",
     "text": [
      "Name: ipython-nose\r\n",
      "Version: 0.4.1\r\n",
      "Summary: IPython extension to run nosetests against the current kernel.\r\n",
      "Home-page: https://github.com/taavi/ipython_nose\r\n",
      "Author: Taavi Burns <taavi at taaviburns dot ca>, Greg Ward <greg at gerg dot ca>\r\n",
      "Author-email: UNKNOWN\r\n",
      "License: README.rst\r\n",
      "Location: /Users/adefusco/Applications/miniconda3/envs/ipy_tests/lib/python3.6/site-packages\r\n",
      "Requires: \r\n"
     ]
    }
   ],
   "source": [
    "%load_ext ipython_nose\n",
    "import sys\n",
    "!{sys.exec_prefix}/bin/pip show ipython_nose"
   ]
  },
  {
   "cell_type": "code",
   "execution_count": 2,
   "metadata": {},
   "outputs": [],
   "source": [
    "import numpy as np\n",
    "np.random.seed(42)"
   ]
  },
  {
   "cell_type": "markdown",
   "metadata": {},
   "source": [
    "## Testing idoms"
   ]
  },
  {
   "cell_type": "markdown",
   "metadata": {},
   "source": [
    "http://pythontesting.net/framework/nose/nose-fixture-reference/"
   ]
  },
  {
   "cell_type": "markdown",
   "metadata": {},
   "source": [
    "Instructions\n",
    "-----------\n",
    "Create a NumPy array of 5 integers where the values are all greater than 5."
   ]
  },
  {
   "cell_type": "code",
   "execution_count": 3,
   "metadata": {},
   "outputs": [
    {
     "data": {
      "text/plain": [
       "array([8, 9, 6, 8, 8])"
      ]
     },
     "execution_count": 3,
     "metadata": {},
     "output_type": "execute_result"
    }
   ],
   "source": [
    "ints = np.random.randint(6, 10, size=5)\n",
    "ints"
   ]
  },
  {
   "cell_type": "markdown",
   "metadata": {},
   "source": [
    "### single functions"
   ]
  },
  {
   "cell_type": "markdown",
   "metadata": {},
   "source": [
    "These are examples of single function tests."
   ]
  },
  {
   "cell_type": "code",
   "execution_count": 4,
   "metadata": {},
   "outputs": [
    {
     "data": {
      "application/json": "{\"success\": true, \"summary\": {\"tests\": 2, \"failures\": 0, \"errors\": 0}, \"tests\": [{\"name\": \"__main__.test_dtype\", \"success\": true, \"message\": \"\"}, {\"name\": \"__main__.test_values\", \"success\": true, \"message\": \"\"}]}"
     },
     "metadata": {},
     "output_type": "display_data"
    },
    {
     "data": {
      "text/plain": [
       "2/2 tests passed\n"
      ]
     },
     "execution_count": 4,
     "metadata": {},
     "output_type": "execute_result"
    }
   ],
   "source": [
    "%%nose\n",
    "\n",
    "def test_dtype():\n",
    "    d = ints.dtype\n",
    "    assert d == np.int, 'Your array has the wrong dtype.'\n",
    "\n",
    "def test_values():\n",
    "    assert (ints > 5).all(), 'Every value should be greater than 5'"
   ]
  },
  {
   "cell_type": "markdown",
   "metadata": {},
   "source": [
    "### generators"
   ]
  },
  {
   "cell_type": "markdown",
   "metadata": {},
   "source": [
    "Alternatively, a generator function can be used to execute multiple tests."
   ]
  },
  {
   "cell_type": "code",
   "execution_count": 5,
   "metadata": {
    "scrolled": true
   },
   "outputs": [
    {
     "data": {
      "application/json": "{\"success\": true, \"summary\": {\"tests\": 6, \"failures\": 0, \"errors\": 0}, \"tests\": [{\"name\": \"__main__.test_dtype\", \"success\": true, \"message\": \"\"}, {\"name\": \"__main__.test_values(8,)\", \"success\": true, \"message\": \"\"}, {\"name\": \"__main__.test_values(9,)\", \"success\": true, \"message\": \"\"}, {\"name\": \"__main__.test_values(6,)\", \"success\": true, \"message\": \"\"}, {\"name\": \"__main__.test_values(8,)\", \"success\": true, \"message\": \"\"}, {\"name\": \"__main__.test_values(8,)\", \"success\": true, \"message\": \"\"}]}"
     },
     "metadata": {},
     "output_type": "display_data"
    },
    {
     "data": {
      "text/plain": [
       "6/6 tests passed\n"
      ]
     },
     "execution_count": 5,
     "metadata": {},
     "output_type": "execute_result"
    }
   ],
   "source": [
    "%%nose\n",
    "\n",
    "def test_dtype():\n",
    "    d = ints.dtype\n",
    "    assert d == np.int, 'Your array has the wrong dtype.'\n",
    "\n",
    "def test_values():\n",
    "    def _test_value(v, threshold=5):\n",
    "        assert v > threshold, '{} is not greater than {}'.format(v, threshold)\n",
    "        \n",
    "    for i in ints:\n",
    "        yield _test_value, i"
   ]
  },
  {
   "cell_type": "markdown",
   "metadata": {},
   "source": [
    "### classes"
   ]
  },
  {
   "cell_type": "markdown",
   "metadata": {},
   "source": [
    "A class may be used to initialize objects and reuse them in multiple tests."
   ]
  },
  {
   "cell_type": "markdown",
   "metadata": {},
   "source": [
    "Per-test initialization\n",
    "----------------------\n",
    "\n",
    "`setup()` **must be a classmethod**. It will be run 6 times, once before each test."
   ]
  },
  {
   "cell_type": "code",
   "execution_count": 6,
   "metadata": {},
   "outputs": [
    {
     "data": {
      "application/json": "{\"success\": true, \"summary\": {\"tests\": 6, \"failures\": 0, \"errors\": 0}, \"tests\": [{\"name\": \"__main__.TestValuesSetup.test_dtype\", \"success\": true, \"message\": \"\"}, {\"name\": \"__main__.TestValuesSetup.test_values(8,)\", \"success\": true, \"message\": \"\"}, {\"name\": \"__main__.TestValuesSetup.test_values(9,)\", \"success\": true, \"message\": \"\"}, {\"name\": \"__main__.TestValuesSetup.test_values(6,)\", \"success\": true, \"message\": \"\"}, {\"name\": \"__main__.TestValuesSetup.test_values(8,)\", \"success\": true, \"message\": \"\"}, {\"name\": \"__main__.TestValuesSetup.test_values(8,)\", \"success\": true, \"message\": \"\"}]}"
     },
     "metadata": {},
     "output_type": "display_data"
    },
    {
     "data": {
      "text/plain": [
       "6/6 tests passed\n"
      ]
     },
     "execution_count": 6,
     "metadata": {},
     "output_type": "execute_result"
    }
   ],
   "source": [
    "%%nose\n",
    "\n",
    "class TestValuesSetup():\n",
    "    @classmethod\n",
    "    def setup(self):\n",
    "        self.threshold = 5\n",
    "        self.dtype = ints.dtype\n",
    "    \n",
    "    def test_dtype(self):\n",
    "        assert self.dtype == np.int, 'Your array has the wrong dtype.'\n",
    "    \n",
    "    def test_values(self):\n",
    "        def _test_value(v):\n",
    "            assert v > self.threshold, '{} is not greater than {}'.format(v, self.threshold)\n",
    "            \n",
    "        for i in ints:\n",
    "            yield _test_value, i"
   ]
  },
  {
   "cell_type": "markdown",
   "metadata": {},
   "source": [
    "Single initialization\n",
    "--------------------\n",
    "\n",
    "The `setup_class()` function is only run once and the state used for all 6 tests. There are caveats to using this idiom."
   ]
  },
  {
   "cell_type": "code",
   "execution_count": 7,
   "metadata": {},
   "outputs": [
    {
     "data": {
      "application/json": "{\"success\": true, \"summary\": {\"tests\": 6, \"failures\": 0, \"errors\": 0}, \"tests\": [{\"name\": \"__main__.TestValuesSetupClass.test_dtype\", \"success\": true, \"message\": \"\"}, {\"name\": \"__main__.TestValuesSetupClass.test_values(8,)\", \"success\": true, \"message\": \"\"}, {\"name\": \"__main__.TestValuesSetupClass.test_values(9,)\", \"success\": true, \"message\": \"\"}, {\"name\": \"__main__.TestValuesSetupClass.test_values(6,)\", \"success\": true, \"message\": \"\"}, {\"name\": \"__main__.TestValuesSetupClass.test_values(8,)\", \"success\": true, \"message\": \"\"}, {\"name\": \"__main__.TestValuesSetupClass.test_values(8,)\", \"success\": true, \"message\": \"\"}]}"
     },
     "metadata": {},
     "output_type": "display_data"
    },
    {
     "data": {
      "text/plain": [
       "6/6 tests passed\n"
      ]
     },
     "execution_count": 7,
     "metadata": {},
     "output_type": "execute_result"
    }
   ],
   "source": [
    "%%nose\n",
    "\n",
    "class TestValuesSetupClass():\n",
    "    @classmethod\n",
    "    def setup_class(self):\n",
    "        self.threshold = 5\n",
    "        self.dtype = ints.dtype\n",
    "    \n",
    "    def test_dtype(self):\n",
    "        assert self.dtype == np.int, 'Your array has the wrong dtype.'\n",
    "    \n",
    "    def test_values(self):\n",
    "        def _test_value(v):\n",
    "            assert v > self.threshold, '{} is not greater than {}'.format(v, self.threshold)\n",
    "            \n",
    "        for i in ints:\n",
    "            yield _test_value, i"
   ]
  },
  {
   "cell_type": "markdown",
   "metadata": {},
   "source": [
    "### module fixtures"
   ]
  },
  {
   "cell_type": "markdown",
   "metadata": {},
   "source": [
    "This looks ugly and probably not recommended. We'll see that this behaves like `setup_class()` above and has the same caveats."
   ]
  },
  {
   "cell_type": "code",
   "execution_count": 8,
   "metadata": {},
   "outputs": [
    {
     "data": {
      "application/json": "{\"success\": true, \"summary\": {\"tests\": 6, \"failures\": 0, \"errors\": 0}, \"tests\": [{\"name\": \"__main__.test_dtype\", \"success\": true, \"message\": \"\"}, {\"name\": \"__main__.test_values(8,)\", \"success\": true, \"message\": \"\"}, {\"name\": \"__main__.test_values(9,)\", \"success\": true, \"message\": \"\"}, {\"name\": \"__main__.test_values(6,)\", \"success\": true, \"message\": \"\"}, {\"name\": \"__main__.test_values(8,)\", \"success\": true, \"message\": \"\"}, {\"name\": \"__main__.test_values(8,)\", \"success\": true, \"message\": \"\"}]}"
     },
     "metadata": {},
     "output_type": "display_data"
    },
    {
     "data": {
      "text/plain": [
       "6/6 tests passed\n"
      ]
     },
     "execution_count": 8,
     "metadata": {},
     "output_type": "execute_result"
    }
   ],
   "source": [
    "%%nose\n",
    "\n",
    "d = None\n",
    "threshold = None\n",
    "\n",
    "def setup_module():\n",
    "    global d, threshold\n",
    "    d = ints.dtype\n",
    "    threshold = 5\n",
    "    \n",
    "def test_dtype():\n",
    "    assert d == np.int, 'Your array has the wrong dtype.'\n",
    "\n",
    "def test_values():\n",
    "    def _test_value(v):\n",
    "        assert v > threshold, '{} is not greater than {}'.format(v, threshold)\n",
    "        \n",
    "    for i in ints:\n",
    "        yield _test_value, i"
   ]
  },
  {
   "cell_type": "markdown",
   "metadata": {},
   "source": [
    "## How tests fail"
   ]
  },
  {
   "cell_type": "markdown",
   "metadata": {},
   "source": [
    "### by assertion"
   ]
  },
  {
   "cell_type": "markdown",
   "metadata": {},
   "source": [
    "The test-taker did not follow the instructions and some values are less than 5."
   ]
  },
  {
   "cell_type": "code",
   "execution_count": 9,
   "metadata": {},
   "outputs": [
    {
     "data": {
      "text/plain": [
       "array([7, 4, 6, 9, 2])"
      ]
     },
     "execution_count": 9,
     "metadata": {},
     "output_type": "execute_result"
    }
   ],
   "source": [
    "ints = np.random.randint(0, 10, size=5)\n",
    "ints"
   ]
  },
  {
   "cell_type": "markdown",
   "metadata": {},
   "source": [
    "The three testing idioms fail on the `assert` lines. All tests are recorded as having been run for each idiom."
   ]
  },
  {
   "cell_type": "code",
   "execution_count": 10,
   "metadata": {},
   "outputs": [
    {
     "data": {
      "application/json": "{\"success\": false, \"summary\": {\"tests\": 2, \"failures\": 1, \"errors\": 0}, \"tests\": [{\"name\": \"__main__.test_dtype\", \"success\": true, \"message\": \"\"}, {\"name\": \"__main__.test_values\", \"success\": false, \"message\": \"AssertionError: Every value should be greater than 5\\n\"}]}"
     },
     "metadata": {},
     "output_type": "display_data"
    },
    {
     "data": {
      "text/plain": [
       "1/2 tests passed; 1 failed\n",
       "========\n",
       "__main__.test_values\n",
       "========\n",
       "Traceback (most recent call last):\n",
       "  File \"/Users/adefusco/Applications/miniconda3/envs/ipy_tests/lib/python3.6/unittest/case.py\", line 59, in testPartExecutor\n",
       "    yield\n",
       "  File \"/Users/adefusco/Applications/miniconda3/envs/ipy_tests/lib/python3.6/unittest/case.py\", line 605, in run\n",
       "    testMethod()\n",
       "  File \"/Users/adefusco/Applications/miniconda3/envs/ipy_tests/lib/python3.6/site-packages/nose/case.py\", line 197, in runTest\n",
       "    self.test(*self.arg)\n",
       "  File \"<string>\", line 7, in test_values\n",
       "AssertionError: Every value should be greater than 5\n",
       "\n"
      ]
     },
     "execution_count": 10,
     "metadata": {},
     "output_type": "execute_result"
    }
   ],
   "source": [
    "%%nose\n",
    "\n",
    "def test_dtype():\n",
    "    d = ints.dtype\n",
    "    assert d == np.int, 'Your array has the wrong dtype.'\n",
    "\n",
    "def test_values():\n",
    "    assert (ints > 5).all(), 'Every value should be greater than 5'"
   ]
  },
  {
   "cell_type": "code",
   "execution_count": 11,
   "metadata": {
    "scrolled": false
   },
   "outputs": [
    {
     "data": {
      "application/json": "{\"success\": false, \"summary\": {\"tests\": 6, \"failures\": 2, \"errors\": 0}, \"tests\": [{\"name\": \"__main__.test_dtype\", \"success\": true, \"message\": \"\"}, {\"name\": \"__main__.test_values(7,)\", \"success\": true, \"message\": \"\"}, {\"name\": \"__main__.test_values(4,)\", \"success\": false, \"message\": \"AssertionError: 4 is not greater than 5\\n\"}, {\"name\": \"__main__.test_values(6,)\", \"success\": true, \"message\": \"\"}, {\"name\": \"__main__.test_values(9,)\", \"success\": true, \"message\": \"\"}, {\"name\": \"__main__.test_values(2,)\", \"success\": false, \"message\": \"AssertionError: 2 is not greater than 5\\n\"}]}"
     },
     "metadata": {},
     "output_type": "display_data"
    },
    {
     "data": {
      "text/plain": [
       "4/6 tests passed; 2 failed\n",
       "========\n",
       "__main__.test_values(4,)\n",
       "========\n",
       "Traceback (most recent call last):\n",
       "  File \"/Users/adefusco/Applications/miniconda3/envs/ipy_tests/lib/python3.6/unittest/case.py\", line 59, in testPartExecutor\n",
       "    yield\n",
       "  File \"/Users/adefusco/Applications/miniconda3/envs/ipy_tests/lib/python3.6/unittest/case.py\", line 605, in run\n",
       "    testMethod()\n",
       "  File \"/Users/adefusco/Applications/miniconda3/envs/ipy_tests/lib/python3.6/site-packages/nose/case.py\", line 197, in runTest\n",
       "    self.test(*self.arg)\n",
       "  File \"<string>\", line 8, in _test_value\n",
       "AssertionError: 4 is not greater than 5\n",
       "\n",
       "========\n",
       "__main__.test_values(2,)\n",
       "========\n",
       "Traceback (most recent call last):\n",
       "  File \"/Users/adefusco/Applications/miniconda3/envs/ipy_tests/lib/python3.6/unittest/case.py\", line 59, in testPartExecutor\n",
       "    yield\n",
       "  File \"/Users/adefusco/Applications/miniconda3/envs/ipy_tests/lib/python3.6/unittest/case.py\", line 605, in run\n",
       "    testMethod()\n",
       "  File \"/Users/adefusco/Applications/miniconda3/envs/ipy_tests/lib/python3.6/site-packages/nose/case.py\", line 197, in runTest\n",
       "    self.test(*self.arg)\n",
       "  File \"<string>\", line 8, in _test_value\n",
       "AssertionError: 2 is not greater than 5\n",
       "\n"
      ]
     },
     "execution_count": 11,
     "metadata": {},
     "output_type": "execute_result"
    }
   ],
   "source": [
    "%%nose\n",
    "\n",
    "def test_dtype():\n",
    "    d = ints.dtype\n",
    "    assert d == np.int, 'Your array has the wrong dtype.'\n",
    "\n",
    "def test_values():\n",
    "    def _test_value(v, threshold=5):\n",
    "        assert v > threshold, '{} is not greater than {}'.format(v, threshold)\n",
    "        \n",
    "    for i in ints:\n",
    "        yield _test_value, i"
   ]
  },
  {
   "cell_type": "code",
   "execution_count": 12,
   "metadata": {},
   "outputs": [
    {
     "data": {
      "application/json": "{\"success\": false, \"summary\": {\"tests\": 6, \"failures\": 2, \"errors\": 0}, \"tests\": [{\"name\": \"__main__.TestValuesSetup.test_dtype\", \"success\": true, \"message\": \"\"}, {\"name\": \"__main__.TestValuesSetup.test_values(7,)\", \"success\": true, \"message\": \"\"}, {\"name\": \"__main__.TestValuesSetup.test_values(4,)\", \"success\": false, \"message\": \"AssertionError: 4 is not greater than 5\\n\"}, {\"name\": \"__main__.TestValuesSetup.test_values(6,)\", \"success\": true, \"message\": \"\"}, {\"name\": \"__main__.TestValuesSetup.test_values(9,)\", \"success\": true, \"message\": \"\"}, {\"name\": \"__main__.TestValuesSetup.test_values(2,)\", \"success\": false, \"message\": \"AssertionError: 2 is not greater than 5\\n\"}]}"
     },
     "metadata": {},
     "output_type": "display_data"
    },
    {
     "data": {
      "text/plain": [
       "4/6 tests passed; 2 failed\n",
       "========\n",
       "__main__.TestValuesSetup.test_values(4,)\n",
       "========\n",
       "Traceback (most recent call last):\n",
       "  File \"/Users/adefusco/Applications/miniconda3/envs/ipy_tests/lib/python3.6/unittest/case.py\", line 59, in testPartExecutor\n",
       "    yield\n",
       "  File \"/Users/adefusco/Applications/miniconda3/envs/ipy_tests/lib/python3.6/unittest/case.py\", line 605, in run\n",
       "    testMethod()\n",
       "  File \"/Users/adefusco/Applications/miniconda3/envs/ipy_tests/lib/python3.6/site-packages/nose/case.py\", line 197, in runTest\n",
       "    self.test(*self.arg)\n",
       "  File \"<string>\", line 13, in _test_value\n",
       "AssertionError: 4 is not greater than 5\n",
       "\n",
       "========\n",
       "__main__.TestValuesSetup.test_values(2,)\n",
       "========\n",
       "Traceback (most recent call last):\n",
       "  File \"/Users/adefusco/Applications/miniconda3/envs/ipy_tests/lib/python3.6/unittest/case.py\", line 59, in testPartExecutor\n",
       "    yield\n",
       "  File \"/Users/adefusco/Applications/miniconda3/envs/ipy_tests/lib/python3.6/unittest/case.py\", line 605, in run\n",
       "    testMethod()\n",
       "  File \"/Users/adefusco/Applications/miniconda3/envs/ipy_tests/lib/python3.6/site-packages/nose/case.py\", line 197, in runTest\n",
       "    self.test(*self.arg)\n",
       "  File \"<string>\", line 13, in _test_value\n",
       "AssertionError: 2 is not greater than 5\n",
       "\n"
      ]
     },
     "execution_count": 12,
     "metadata": {},
     "output_type": "execute_result"
    }
   ],
   "source": [
    "%%nose\n",
    "\n",
    "class TestValuesSetup():\n",
    "    @classmethod\n",
    "    def setup(self):\n",
    "        self.threshold = 5\n",
    "        self.dtype = ints.dtype\n",
    "    \n",
    "    def test_dtype(self):\n",
    "        assert self.dtype == np.int, 'Your array has the wrong dtype.'\n",
    "    \n",
    "    def test_values(self):\n",
    "        def _test_value(v):\n",
    "            assert v > self.threshold, '{} is not greater than {}'.format(v, self.threshold)\n",
    "            \n",
    "        for i in ints:\n",
    "            yield _test_value, i"
   ]
  },
  {
   "cell_type": "code",
   "execution_count": 13,
   "metadata": {},
   "outputs": [
    {
     "data": {
      "application/json": "{\"success\": false, \"summary\": {\"tests\": 6, \"failures\": 2, \"errors\": 0}, \"tests\": [{\"name\": \"__main__.TestValuesSetupClass.test_dtype\", \"success\": true, \"message\": \"\"}, {\"name\": \"__main__.TestValuesSetupClass.test_values(7,)\", \"success\": true, \"message\": \"\"}, {\"name\": \"__main__.TestValuesSetupClass.test_values(4,)\", \"success\": false, \"message\": \"AssertionError: 4 is not greater than 5\\n\"}, {\"name\": \"__main__.TestValuesSetupClass.test_values(6,)\", \"success\": true, \"message\": \"\"}, {\"name\": \"__main__.TestValuesSetupClass.test_values(9,)\", \"success\": true, \"message\": \"\"}, {\"name\": \"__main__.TestValuesSetupClass.test_values(2,)\", \"success\": false, \"message\": \"AssertionError: 2 is not greater than 5\\n\"}]}"
     },
     "metadata": {},
     "output_type": "display_data"
    },
    {
     "data": {
      "text/plain": [
       "4/6 tests passed; 2 failed\n",
       "========\n",
       "__main__.TestValuesSetupClass.test_values(4,)\n",
       "========\n",
       "Traceback (most recent call last):\n",
       "  File \"/Users/adefusco/Applications/miniconda3/envs/ipy_tests/lib/python3.6/unittest/case.py\", line 59, in testPartExecutor\n",
       "    yield\n",
       "  File \"/Users/adefusco/Applications/miniconda3/envs/ipy_tests/lib/python3.6/unittest/case.py\", line 605, in run\n",
       "    testMethod()\n",
       "  File \"/Users/adefusco/Applications/miniconda3/envs/ipy_tests/lib/python3.6/site-packages/nose/case.py\", line 197, in runTest\n",
       "    self.test(*self.arg)\n",
       "  File \"<string>\", line 13, in _test_value\n",
       "AssertionError: 4 is not greater than 5\n",
       "\n",
       "========\n",
       "__main__.TestValuesSetupClass.test_values(2,)\n",
       "========\n",
       "Traceback (most recent call last):\n",
       "  File \"/Users/adefusco/Applications/miniconda3/envs/ipy_tests/lib/python3.6/unittest/case.py\", line 59, in testPartExecutor\n",
       "    yield\n",
       "  File \"/Users/adefusco/Applications/miniconda3/envs/ipy_tests/lib/python3.6/unittest/case.py\", line 605, in run\n",
       "    testMethod()\n",
       "  File \"/Users/adefusco/Applications/miniconda3/envs/ipy_tests/lib/python3.6/site-packages/nose/case.py\", line 197, in runTest\n",
       "    self.test(*self.arg)\n",
       "  File \"<string>\", line 13, in _test_value\n",
       "AssertionError: 2 is not greater than 5\n",
       "\n"
      ]
     },
     "execution_count": 13,
     "metadata": {},
     "output_type": "execute_result"
    }
   ],
   "source": [
    "%%nose\n",
    "\n",
    "class TestValuesSetupClass():\n",
    "    @classmethod\n",
    "    def setup_class(self):\n",
    "        self.threshold = 5\n",
    "        self.dtype = ints.dtype\n",
    "    \n",
    "    def test_dtype(self):\n",
    "        assert self.dtype == np.int, 'Your array has the wrong dtype.'\n",
    "    \n",
    "    def test_values(self):\n",
    "        def _test_value(v):\n",
    "            assert v > self.threshold, '{} is not greater than {}'.format(v, self.threshold)\n",
    "            \n",
    "        for i in ints:\n",
    "            yield _test_value, i"
   ]
  },
  {
   "cell_type": "code",
   "execution_count": 14,
   "metadata": {},
   "outputs": [
    {
     "data": {
      "application/json": "{\"success\": false, \"summary\": {\"tests\": 6, \"failures\": 2, \"errors\": 0}, \"tests\": [{\"name\": \"__main__.test_dtype\", \"success\": true, \"message\": \"\"}, {\"name\": \"__main__.test_values(7,)\", \"success\": true, \"message\": \"\"}, {\"name\": \"__main__.test_values(4,)\", \"success\": false, \"message\": \"AssertionError: 4 is not greater than 5\\n\"}, {\"name\": \"__main__.test_values(6,)\", \"success\": true, \"message\": \"\"}, {\"name\": \"__main__.test_values(9,)\", \"success\": true, \"message\": \"\"}, {\"name\": \"__main__.test_values(2,)\", \"success\": false, \"message\": \"AssertionError: 2 is not greater than 5\\n\"}]}"
     },
     "metadata": {},
     "output_type": "display_data"
    },
    {
     "data": {
      "text/plain": [
       "4/6 tests passed; 2 failed\n",
       "========\n",
       "__main__.test_values(4,)\n",
       "========\n",
       "Traceback (most recent call last):\n",
       "  File \"/Users/adefusco/Applications/miniconda3/envs/ipy_tests/lib/python3.6/unittest/case.py\", line 59, in testPartExecutor\n",
       "    yield\n",
       "  File \"/Users/adefusco/Applications/miniconda3/envs/ipy_tests/lib/python3.6/unittest/case.py\", line 605, in run\n",
       "    testMethod()\n",
       "  File \"/Users/adefusco/Applications/miniconda3/envs/ipy_tests/lib/python3.6/site-packages/nose/case.py\", line 197, in runTest\n",
       "    self.test(*self.arg)\n",
       "  File \"<string>\", line 15, in _test_value\n",
       "AssertionError: 4 is not greater than 5\n",
       "\n",
       "========\n",
       "__main__.test_values(2,)\n",
       "========\n",
       "Traceback (most recent call last):\n",
       "  File \"/Users/adefusco/Applications/miniconda3/envs/ipy_tests/lib/python3.6/unittest/case.py\", line 59, in testPartExecutor\n",
       "    yield\n",
       "  File \"/Users/adefusco/Applications/miniconda3/envs/ipy_tests/lib/python3.6/unittest/case.py\", line 605, in run\n",
       "    testMethod()\n",
       "  File \"/Users/adefusco/Applications/miniconda3/envs/ipy_tests/lib/python3.6/site-packages/nose/case.py\", line 197, in runTest\n",
       "    self.test(*self.arg)\n",
       "  File \"<string>\", line 15, in _test_value\n",
       "AssertionError: 2 is not greater than 5\n",
       "\n"
      ]
     },
     "execution_count": 14,
     "metadata": {},
     "output_type": "execute_result"
    }
   ],
   "source": [
    "%%nose\n",
    "\n",
    "d = None\n",
    "threshold = None\n",
    "\n",
    "def setup_module():\n",
    "    global d, threshold\n",
    "    d = ints.dtype\n",
    "    threshold = 5\n",
    "    \n",
    "def test_dtype():\n",
    "    assert d == np.int, 'Your array has the wrong dtype.'\n",
    "\n",
    "def test_values():\n",
    "    def _test_value(v):\n",
    "        assert v > threshold, '{} is not greater than {}'.format(v, threshold)\n",
    "        \n",
    "    for i in ints:\n",
    "        yield _test_value, i"
   ]
  },
  {
   "cell_type": "markdown",
   "metadata": {},
   "source": [
    "### by exceptions"
   ]
  },
  {
   "cell_type": "markdown",
   "metadata": {},
   "source": [
    "http://pythontesting.net/framework/unittest/when-unittest-fixtures-fail/"
   ]
  },
  {
   "cell_type": "markdown",
   "metadata": {},
   "source": [
    "The test-taker broke both rules, values are less than 5 and `ints` is a list."
   ]
  },
  {
   "cell_type": "code",
   "execution_count": 15,
   "metadata": {},
   "outputs": [],
   "source": [
    "ints = np.random.randint(0, 10, size=5).tolist()"
   ]
  },
  {
   "cell_type": "markdown",
   "metadata": {},
   "source": [
    "The two test functions fail appropriately because\n",
    "* `.dtype` is not an attribute of lists.\n",
    "* `>` comparison is not supported."
   ]
  },
  {
   "cell_type": "code",
   "execution_count": 16,
   "metadata": {},
   "outputs": [
    {
     "data": {
      "application/json": "{\"success\": false, \"summary\": {\"tests\": 2, \"failures\": 0, \"errors\": 2}, \"tests\": [{\"name\": \"__main__.test_dtype\", \"success\": false, \"message\": \"AttributeError: 'list' object has no attribute 'dtype'\\n\"}, {\"name\": \"__main__.test_values\", \"success\": false, \"message\": \"TypeError: '>' not supported between instances of 'list' and 'int'\\n\"}]}"
     },
     "metadata": {},
     "output_type": "display_data"
    },
    {
     "data": {
      "text/plain": [
       "0/2 tests passed; 2 failed\n",
       "========\n",
       "__main__.test_dtype\n",
       "========\n",
       "Traceback (most recent call last):\n",
       "  File \"/Users/adefusco/Applications/miniconda3/envs/ipy_tests/lib/python3.6/unittest/case.py\", line 59, in testPartExecutor\n",
       "    yield\n",
       "  File \"/Users/adefusco/Applications/miniconda3/envs/ipy_tests/lib/python3.6/unittest/case.py\", line 605, in run\n",
       "    testMethod()\n",
       "  File \"/Users/adefusco/Applications/miniconda3/envs/ipy_tests/lib/python3.6/site-packages/nose/case.py\", line 197, in runTest\n",
       "    self.test(*self.arg)\n",
       "  File \"<string>\", line 3, in test_dtype\n",
       "AttributeError: 'list' object has no attribute 'dtype'\n",
       "\n",
       "========\n",
       "__main__.test_values\n",
       "========\n",
       "Traceback (most recent call last):\n",
       "  File \"/Users/adefusco/Applications/miniconda3/envs/ipy_tests/lib/python3.6/unittest/case.py\", line 59, in testPartExecutor\n",
       "    yield\n",
       "  File \"/Users/adefusco/Applications/miniconda3/envs/ipy_tests/lib/python3.6/unittest/case.py\", line 605, in run\n",
       "    testMethod()\n",
       "  File \"/Users/adefusco/Applications/miniconda3/envs/ipy_tests/lib/python3.6/site-packages/nose/case.py\", line 197, in runTest\n",
       "    self.test(*self.arg)\n",
       "  File \"<string>\", line 7, in test_values\n",
       "TypeError: '>' not supported between instances of 'list' and 'int'\n",
       "\n"
      ]
     },
     "execution_count": 16,
     "metadata": {},
     "output_type": "execute_result"
    }
   ],
   "source": [
    "%%nose\n",
    "\n",
    "def test_dtype():\n",
    "    d = ints.dtype\n",
    "    assert d == np.int, 'Your arrays has the wrong dtype.'\n",
    "\n",
    "def test_values():\n",
    "    assert (ints > 5).all(), 'Every value should be greater than 5'"
   ]
  },
  {
   "cell_type": "markdown",
   "metadata": {},
   "source": [
    "Some tests pass because the generator was written in a container-agnostic fashion."
   ]
  },
  {
   "cell_type": "code",
   "execution_count": 17,
   "metadata": {
    "scrolled": false
   },
   "outputs": [
    {
     "data": {
      "application/json": "{\"success\": false, \"summary\": {\"tests\": 6, \"failures\": 2, \"errors\": 1}, \"tests\": [{\"name\": \"__main__.test_dtype\", \"success\": false, \"message\": \"AttributeError: 'list' object has no attribute 'dtype'\\n\"}, {\"name\": \"__main__.test_values(6,)\", \"success\": true, \"message\": \"\"}, {\"name\": \"__main__.test_values(7,)\", \"success\": true, \"message\": \"\"}, {\"name\": \"__main__.test_values(4,)\", \"success\": false, \"message\": \"AssertionError: 4 is not greater than 5\\n\"}, {\"name\": \"__main__.test_values(3,)\", \"success\": false, \"message\": \"AssertionError: 3 is not greater than 5\\n\"}, {\"name\": \"__main__.test_values(7,)\", \"success\": true, \"message\": \"\"}]}"
     },
     "metadata": {},
     "output_type": "display_data"
    },
    {
     "data": {
      "text/plain": [
       "3/6 tests passed; 3 failed\n",
       "========\n",
       "__main__.test_dtype\n",
       "========\n",
       "Traceback (most recent call last):\n",
       "  File \"/Users/adefusco/Applications/miniconda3/envs/ipy_tests/lib/python3.6/unittest/case.py\", line 59, in testPartExecutor\n",
       "    yield\n",
       "  File \"/Users/adefusco/Applications/miniconda3/envs/ipy_tests/lib/python3.6/unittest/case.py\", line 605, in run\n",
       "    testMethod()\n",
       "  File \"/Users/adefusco/Applications/miniconda3/envs/ipy_tests/lib/python3.6/site-packages/nose/case.py\", line 197, in runTest\n",
       "    self.test(*self.arg)\n",
       "  File \"<string>\", line 3, in test_dtype\n",
       "AttributeError: 'list' object has no attribute 'dtype'\n",
       "\n",
       "========\n",
       "__main__.test_values(4,)\n",
       "========\n",
       "Traceback (most recent call last):\n",
       "  File \"/Users/adefusco/Applications/miniconda3/envs/ipy_tests/lib/python3.6/unittest/case.py\", line 59, in testPartExecutor\n",
       "    yield\n",
       "  File \"/Users/adefusco/Applications/miniconda3/envs/ipy_tests/lib/python3.6/unittest/case.py\", line 605, in run\n",
       "    testMethod()\n",
       "  File \"/Users/adefusco/Applications/miniconda3/envs/ipy_tests/lib/python3.6/site-packages/nose/case.py\", line 197, in runTest\n",
       "    self.test(*self.arg)\n",
       "  File \"<string>\", line 8, in _test_value\n",
       "AssertionError: 4 is not greater than 5\n",
       "\n",
       "========\n",
       "__main__.test_values(3,)\n",
       "========\n",
       "Traceback (most recent call last):\n",
       "  File \"/Users/adefusco/Applications/miniconda3/envs/ipy_tests/lib/python3.6/unittest/case.py\", line 59, in testPartExecutor\n",
       "    yield\n",
       "  File \"/Users/adefusco/Applications/miniconda3/envs/ipy_tests/lib/python3.6/unittest/case.py\", line 605, in run\n",
       "    testMethod()\n",
       "  File \"/Users/adefusco/Applications/miniconda3/envs/ipy_tests/lib/python3.6/site-packages/nose/case.py\", line 197, in runTest\n",
       "    self.test(*self.arg)\n",
       "  File \"<string>\", line 8, in _test_value\n",
       "AssertionError: 3 is not greater than 5\n",
       "\n"
      ]
     },
     "execution_count": 17,
     "metadata": {},
     "output_type": "execute_result"
    }
   ],
   "source": [
    "%%nose\n",
    "\n",
    "def test_dtype():\n",
    "    d = ints.dtype\n",
    "    assert d == np.int, 'Your array has the wrong dtype.'\n",
    "\n",
    "def test_values():\n",
    "    def _test_value(v, threshold=5):\n",
    "        assert v > threshold, '{} is not greater than {}'.format(v, threshold)\n",
    "        \n",
    "    for i in ints:\n",
    "        yield _test_value, i"
   ]
  },
  {
   "cell_type": "markdown",
   "metadata": {},
   "source": [
    "All tests are run and nothing passes because `setup()` is run each time."
   ]
  },
  {
   "cell_type": "code",
   "execution_count": 18,
   "metadata": {
    "scrolled": true
   },
   "outputs": [
    {
     "data": {
      "application/json": "{\"success\": false, \"summary\": {\"tests\": 6, \"failures\": 0, \"errors\": 6}, \"tests\": [{\"name\": \"__main__.TestValuesSetup.test_dtype\", \"success\": false, \"message\": \"AttributeError: 'list' object has no attribute 'dtype'\\n\"}, {\"name\": \"__main__.TestValuesSetup.test_values(6,)\", \"success\": false, \"message\": \"AttributeError: 'list' object has no attribute 'dtype'\\n\"}, {\"name\": \"__main__.TestValuesSetup.test_values(7,)\", \"success\": false, \"message\": \"AttributeError: 'list' object has no attribute 'dtype'\\n\"}, {\"name\": \"__main__.TestValuesSetup.test_values(4,)\", \"success\": false, \"message\": \"AttributeError: 'list' object has no attribute 'dtype'\\n\"}, {\"name\": \"__main__.TestValuesSetup.test_values(3,)\", \"success\": false, \"message\": \"AttributeError: 'list' object has no attribute 'dtype'\\n\"}, {\"name\": \"__main__.TestValuesSetup.test_values(7,)\", \"success\": false, \"message\": \"AttributeError: 'list' object has no attribute 'dtype'\\n\"}]}"
     },
     "metadata": {},
     "output_type": "display_data"
    },
    {
     "data": {
      "text/plain": [
       "0/6 tests passed; 6 failed\n",
       "========\n",
       "__main__.TestValuesSetup.test_dtype\n",
       "========\n",
       "Traceback (most recent call last):\n",
       "  File \"/Users/adefusco/Applications/miniconda3/envs/ipy_tests/lib/python3.6/unittest/case.py\", line 59, in testPartExecutor\n",
       "    yield\n",
       "  File \"/Users/adefusco/Applications/miniconda3/envs/ipy_tests/lib/python3.6/unittest/case.py\", line 601, in run\n",
       "    self.setUp()\n",
       "  File \"/Users/adefusco/Applications/miniconda3/envs/ipy_tests/lib/python3.6/site-packages/nose/case.py\", line 381, in setUp\n",
       "    try_run(self.inst, ('setup', 'setUp'))\n",
       "  File \"/Users/adefusco/Applications/miniconda3/envs/ipy_tests/lib/python3.6/site-packages/nose/util.py\", line 471, in try_run\n",
       "    return func()\n",
       "  File \"<string>\", line 6, in setup\n",
       "AttributeError: 'list' object has no attribute 'dtype'\n",
       "\n",
       "========\n",
       "__main__.TestValuesSetup.test_values(6,)\n",
       "========\n",
       "Traceback (most recent call last):\n",
       "  File \"/Users/adefusco/Applications/miniconda3/envs/ipy_tests/lib/python3.6/unittest/case.py\", line 59, in testPartExecutor\n",
       "    yield\n",
       "  File \"/Users/adefusco/Applications/miniconda3/envs/ipy_tests/lib/python3.6/unittest/case.py\", line 601, in run\n",
       "    self.setUp()\n",
       "  File \"/Users/adefusco/Applications/miniconda3/envs/ipy_tests/lib/python3.6/site-packages/nose/case.py\", line 381, in setUp\n",
       "    try_run(self.inst, ('setup', 'setUp'))\n",
       "  File \"/Users/adefusco/Applications/miniconda3/envs/ipy_tests/lib/python3.6/site-packages/nose/util.py\", line 471, in try_run\n",
       "    return func()\n",
       "  File \"<string>\", line 6, in setup\n",
       "AttributeError: 'list' object has no attribute 'dtype'\n",
       "\n",
       "========\n",
       "__main__.TestValuesSetup.test_values(7,)\n",
       "========\n",
       "Traceback (most recent call last):\n",
       "  File \"/Users/adefusco/Applications/miniconda3/envs/ipy_tests/lib/python3.6/unittest/case.py\", line 59, in testPartExecutor\n",
       "    yield\n",
       "  File \"/Users/adefusco/Applications/miniconda3/envs/ipy_tests/lib/python3.6/unittest/case.py\", line 601, in run\n",
       "    self.setUp()\n",
       "  File \"/Users/adefusco/Applications/miniconda3/envs/ipy_tests/lib/python3.6/site-packages/nose/case.py\", line 381, in setUp\n",
       "    try_run(self.inst, ('setup', 'setUp'))\n",
       "  File \"/Users/adefusco/Applications/miniconda3/envs/ipy_tests/lib/python3.6/site-packages/nose/util.py\", line 471, in try_run\n",
       "    return func()\n",
       "  File \"<string>\", line 6, in setup\n",
       "AttributeError: 'list' object has no attribute 'dtype'\n",
       "\n",
       "========\n",
       "__main__.TestValuesSetup.test_values(4,)\n",
       "========\n",
       "Traceback (most recent call last):\n",
       "  File \"/Users/adefusco/Applications/miniconda3/envs/ipy_tests/lib/python3.6/unittest/case.py\", line 59, in testPartExecutor\n",
       "    yield\n",
       "  File \"/Users/adefusco/Applications/miniconda3/envs/ipy_tests/lib/python3.6/unittest/case.py\", line 601, in run\n",
       "    self.setUp()\n",
       "  File \"/Users/adefusco/Applications/miniconda3/envs/ipy_tests/lib/python3.6/site-packages/nose/case.py\", line 381, in setUp\n",
       "    try_run(self.inst, ('setup', 'setUp'))\n",
       "  File \"/Users/adefusco/Applications/miniconda3/envs/ipy_tests/lib/python3.6/site-packages/nose/util.py\", line 471, in try_run\n",
       "    return func()\n",
       "  File \"<string>\", line 6, in setup\n",
       "AttributeError: 'list' object has no attribute 'dtype'\n",
       "\n",
       "========\n",
       "__main__.TestValuesSetup.test_values(3,)\n",
       "========\n",
       "Traceback (most recent call last):\n",
       "  File \"/Users/adefusco/Applications/miniconda3/envs/ipy_tests/lib/python3.6/unittest/case.py\", line 59, in testPartExecutor\n",
       "    yield\n",
       "  File \"/Users/adefusco/Applications/miniconda3/envs/ipy_tests/lib/python3.6/unittest/case.py\", line 601, in run\n",
       "    self.setUp()\n",
       "  File \"/Users/adefusco/Applications/miniconda3/envs/ipy_tests/lib/python3.6/site-packages/nose/case.py\", line 381, in setUp\n",
       "    try_run(self.inst, ('setup', 'setUp'))\n",
       "  File \"/Users/adefusco/Applications/miniconda3/envs/ipy_tests/lib/python3.6/site-packages/nose/util.py\", line 471, in try_run\n",
       "    return func()\n",
       "  File \"<string>\", line 6, in setup\n",
       "AttributeError: 'list' object has no attribute 'dtype'\n",
       "\n",
       "========\n",
       "__main__.TestValuesSetup.test_values(7,)\n",
       "========\n",
       "Traceback (most recent call last):\n",
       "  File \"/Users/adefusco/Applications/miniconda3/envs/ipy_tests/lib/python3.6/unittest/case.py\", line 59, in testPartExecutor\n",
       "    yield\n",
       "  File \"/Users/adefusco/Applications/miniconda3/envs/ipy_tests/lib/python3.6/unittest/case.py\", line 601, in run\n",
       "    self.setUp()\n",
       "  File \"/Users/adefusco/Applications/miniconda3/envs/ipy_tests/lib/python3.6/site-packages/nose/case.py\", line 381, in setUp\n",
       "    try_run(self.inst, ('setup', 'setUp'))\n",
       "  File \"/Users/adefusco/Applications/miniconda3/envs/ipy_tests/lib/python3.6/site-packages/nose/util.py\", line 471, in try_run\n",
       "    return func()\n",
       "  File \"<string>\", line 6, in setup\n",
       "AttributeError: 'list' object has no attribute 'dtype'\n",
       "\n"
      ]
     },
     "execution_count": 18,
     "metadata": {},
     "output_type": "execute_result"
    }
   ],
   "source": [
    "%%nose\n",
    "\n",
    "class TestValuesSetup():\n",
    "    @classmethod\n",
    "    def setup(self):\n",
    "        self.threshold = 5\n",
    "        self.dtype = ints.dtype\n",
    "    \n",
    "    def test_dtype(self):\n",
    "        assert self.dtype == np.int, 'Your array has the wrong dtype.'\n",
    "    \n",
    "    def test_values(self):\n",
    "        def _test_value(v):\n",
    "            assert v > self.threshold, '{} is not greater than {}'.format(v, self.threshold)\n",
    "            \n",
    "        for i in ints:\n",
    "            yield _test_value, i"
   ]
  },
  {
   "cell_type": "markdown",
   "metadata": {},
   "source": [
    "#### no tests found??"
   ]
  },
  {
   "cell_type": "markdown",
   "metadata": {},
   "source": [
    "Because `setup_class()` failed, the class itself was not built and **no tests were even discovered.**\n",
    "\n",
    "I believe this to be expected behavior, but unfortunate."
   ]
  },
  {
   "cell_type": "code",
   "execution_count": 19,
   "metadata": {},
   "outputs": [
    {
     "data": {
      "application/json": "{\"success\": false, \"summary\": {\"tests\": 0, \"failures\": 0, \"errors\": 1}, \"tests\": [{\"name\": \"test suite for <class '__main__.TestValuesSetupClass'>\", \"success\": false, \"message\": \"AttributeError: 'list' object has no attribute 'dtype'\\n\"}]}"
     },
     "metadata": {},
     "output_type": "display_data"
    },
    {
     "data": {
      "text/plain": [
       "No tests found."
      ]
     },
     "execution_count": 19,
     "metadata": {},
     "output_type": "execute_result"
    }
   ],
   "source": [
    "%%nose\n",
    "\n",
    "class TestValuesSetupClass():\n",
    "    @classmethod\n",
    "    def setup_class(self):\n",
    "        self.threshold = 5\n",
    "        self.dtype = ints.dtype\n",
    "    \n",
    "    def test_dtype(self):\n",
    "        assert self.dtype == np.int, 'Your array has the wrong dtype.'\n",
    "    \n",
    "    def test_values(self):\n",
    "        def _test_value(v):\n",
    "            assert v > self.threshold, '{} is not greater than {}'.format(v, self.threshold)\n",
    "            \n",
    "        for i in ints:\n",
    "            yield _test_value, i"
   ]
  },
  {
   "cell_type": "markdown",
   "metadata": {},
   "source": [
    "Again, `setup_module()` failed and nothing happened."
   ]
  },
  {
   "cell_type": "code",
   "execution_count": 20,
   "metadata": {},
   "outputs": [
    {
     "data": {
      "application/json": "{\"success\": false, \"summary\": {\"tests\": 0, \"failures\": 0, \"errors\": 1}, \"tests\": [{\"name\": \"test suite for <module '__main__'>\", \"success\": false, \"message\": \"AttributeError: 'list' object has no attribute 'dtype'\\n\"}]}"
     },
     "metadata": {},
     "output_type": "display_data"
    },
    {
     "data": {
      "text/plain": [
       "No tests found."
      ]
     },
     "execution_count": 20,
     "metadata": {},
     "output_type": "execute_result"
    }
   ],
   "source": [
    "%%nose\n",
    "\n",
    "d = None\n",
    "threshold = None\n",
    "\n",
    "def setup_module():\n",
    "    global d, threshold\n",
    "    d = ints.dtype\n",
    "    threshold = 5\n",
    "    \n",
    "def test_dtype():\n",
    "    assert d == np.int, 'Your array has the wrong dtype.'\n",
    "\n",
    "def test_values():\n",
    "    def _test_value(v):\n",
    "        assert v > threshold, '{} is not greater than {}'.format(v, threshold)\n",
    "        \n",
    "    for i in ints:\n",
    "        yield _test_value, i"
   ]
  },
  {
   "cell_type": "markdown",
   "metadata": {},
   "source": [
    "`ValuesTestSetup` does not conform to the nose regex."
   ]
  },
  {
   "cell_type": "code",
   "execution_count": 21,
   "metadata": {},
   "outputs": [
    {
     "data": {
      "application/json": "{\"success\": true, \"summary\": {\"tests\": 0, \"failures\": 0, \"errors\": 0}, \"tests\": []}"
     },
     "metadata": {},
     "output_type": "display_data"
    },
    {
     "data": {
      "text/plain": [
       "No tests found."
      ]
     },
     "execution_count": 21,
     "metadata": {},
     "output_type": "execute_result"
    }
   ],
   "source": [
    "%%nose\n",
    "\n",
    "class ValuesTestSetup():\n",
    "    @classmethod\n",
    "    def setup(self):\n",
    "        self.threshold = 5\n",
    "        self.dtype = ints.dtype\n",
    "    \n",
    "    def test_dtype(self):\n",
    "        assert self.dtype == np.int, 'Your array has the wrong dtype.'\n",
    "    \n",
    "    def test_values(self):\n",
    "        def _test_value(v):\n",
    "            assert v > self.threshold, '{} is not greater than {}'.format(v, self.threshold)\n",
    "            \n",
    "        for i in ints:\n",
    "            yield _test_value, i"
   ]
  },
  {
   "cell_type": "markdown",
   "metadata": {},
   "source": [
    "### by crashing nose"
   ]
  },
  {
   "cell_type": "markdown",
   "metadata": {},
   "source": [
    "Here we will break only one rule."
   ]
  },
  {
   "cell_type": "code",
   "execution_count": 22,
   "metadata": {},
   "outputs": [],
   "source": [
    "ints = np.random.randint(6, 10, size=5).tolist()"
   ]
  },
  {
   "cell_type": "markdown",
   "metadata": {},
   "source": [
    "Poorly written test cells can cause a full crash of nose and ipython_nose.\n",
    "\n",
    "Generally this means any uncaught exceptions outside of test functions or classes.\n",
    "\n",
    "On DataCamp this AttributeError leads to a *Timeout* when running `Check Project`."
   ]
  },
  {
   "cell_type": "code",
   "execution_count": 23,
   "metadata": {},
   "outputs": [
    {
     "ename": "AttributeError",
     "evalue": "'list' object has no attribute 'dtype'",
     "output_type": "error",
     "traceback": [
      "\u001b[0;31m---------------------------------------------------------------------------\u001b[0m",
      "\u001b[0;31mAttributeError\u001b[0m                            Traceback (most recent call last)",
      "\u001b[0;32m<ipython-input-23-942bc4e6e754>\u001b[0m in \u001b[0;36m<module>\u001b[0;34m()\u001b[0m\n\u001b[0;32m----> 1\u001b[0;31m \u001b[0mget_ipython\u001b[0m\u001b[0;34m(\u001b[0m\u001b[0;34m)\u001b[0m\u001b[0;34m.\u001b[0m\u001b[0mrun_cell_magic\u001b[0m\u001b[0;34m(\u001b[0m\u001b[0;34m'nose'\u001b[0m\u001b[0;34m,\u001b[0m \u001b[0;34m''\u001b[0m\u001b[0;34m,\u001b[0m \u001b[0;34m\"\\nd = ints.dtype\\n\\ndef test_dtype():\\n    assert d == np.int, 'Your arrays has the wrong dtype.'\\n\\ndef test_values():\\n    assert (ints > 5).all(), 'Every value should be greater than 5'\"\u001b[0m\u001b[0;34m)\u001b[0m\u001b[0;34m\u001b[0m\u001b[0m\n\u001b[0m",
      "\u001b[0;32m~/Applications/miniconda3/envs/ipy_tests/lib/python3.6/site-packages/IPython/core/interactiveshell.py\u001b[0m in \u001b[0;36mrun_cell_magic\u001b[0;34m(self, magic_name, line, cell)\u001b[0m\n\u001b[1;32m   2129\u001b[0m             \u001b[0mmagic_arg_s\u001b[0m \u001b[0;34m=\u001b[0m \u001b[0mself\u001b[0m\u001b[0;34m.\u001b[0m\u001b[0mvar_expand\u001b[0m\u001b[0;34m(\u001b[0m\u001b[0mline\u001b[0m\u001b[0;34m,\u001b[0m \u001b[0mstack_depth\u001b[0m\u001b[0;34m)\u001b[0m\u001b[0;34m\u001b[0m\u001b[0m\n\u001b[1;32m   2130\u001b[0m             \u001b[0;32mwith\u001b[0m \u001b[0mself\u001b[0m\u001b[0;34m.\u001b[0m\u001b[0mbuiltin_trap\u001b[0m\u001b[0;34m:\u001b[0m\u001b[0;34m\u001b[0m\u001b[0m\n\u001b[0;32m-> 2131\u001b[0;31m                 \u001b[0mresult\u001b[0m \u001b[0;34m=\u001b[0m \u001b[0mfn\u001b[0m\u001b[0;34m(\u001b[0m\u001b[0mmagic_arg_s\u001b[0m\u001b[0;34m,\u001b[0m \u001b[0mcell\u001b[0m\u001b[0;34m)\u001b[0m\u001b[0;34m\u001b[0m\u001b[0m\n\u001b[0m\u001b[1;32m   2132\u001b[0m             \u001b[0;32mreturn\u001b[0m \u001b[0mresult\u001b[0m\u001b[0;34m\u001b[0m\u001b[0m\n\u001b[1;32m   2133\u001b[0m \u001b[0;34m\u001b[0m\u001b[0m\n",
      "\u001b[0;32m~/Applications/miniconda3/envs/ipy_tests/lib/python3.6/site-packages/ipython_nose.py\u001b[0m in \u001b[0;36mnose\u001b[0;34m(line, cell, test_module)\u001b[0m\n\u001b[1;32m    291\u001b[0m         \u001b[0mselector\u001b[0m \u001b[0;34m=\u001b[0m \u001b[0mExcludingTestSelector\u001b[0m\u001b[0;34m(\u001b[0m\u001b[0mconfig\u001b[0m\u001b[0;34m,\u001b[0m \u001b[0mtest_module\u001b[0m\u001b[0;34m.\u001b[0m\u001b[0m__dict__\u001b[0m\u001b[0;34m.\u001b[0m\u001b[0mvalues\u001b[0m\u001b[0;34m(\u001b[0m\u001b[0;34m)\u001b[0m\u001b[0;34m)\u001b[0m\u001b[0;34m\u001b[0m\u001b[0m\n\u001b[1;32m    292\u001b[0m         \u001b[0;31m# Evaluate the cell and add objects it defined into the test module.\u001b[0m\u001b[0;34m\u001b[0m\u001b[0;34m\u001b[0m\u001b[0m\n\u001b[0;32m--> 293\u001b[0;31m         \u001b[0mexec\u001b[0m\u001b[0;34m(\u001b[0m\u001b[0mcell\u001b[0m\u001b[0;34m,\u001b[0m \u001b[0mtest_module\u001b[0m\u001b[0;34m.\u001b[0m\u001b[0m__dict__\u001b[0m\u001b[0;34m)\u001b[0m\u001b[0;34m\u001b[0m\u001b[0m\n\u001b[0m\u001b[1;32m    294\u001b[0m     \u001b[0mloader\u001b[0m \u001b[0;34m=\u001b[0m \u001b[0mnose_loader\u001b[0m\u001b[0;34m.\u001b[0m\u001b[0mTestLoader\u001b[0m\u001b[0;34m(\u001b[0m\u001b[0mconfig\u001b[0m\u001b[0;34m=\u001b[0m\u001b[0mconfig\u001b[0m\u001b[0;34m,\u001b[0m \u001b[0mselector\u001b[0m\u001b[0;34m=\u001b[0m\u001b[0mselector\u001b[0m\u001b[0;34m)\u001b[0m\u001b[0;34m\u001b[0m\u001b[0m\n\u001b[1;32m    295\u001b[0m     \u001b[0mtests\u001b[0m \u001b[0;34m=\u001b[0m \u001b[0mloader\u001b[0m\u001b[0;34m.\u001b[0m\u001b[0mloadTestsFromModule\u001b[0m\u001b[0;34m(\u001b[0m\u001b[0mtest_module\u001b[0m\u001b[0;34m)\u001b[0m\u001b[0;34m\u001b[0m\u001b[0m\n",
      "\u001b[0;32m<string>\u001b[0m in \u001b[0;36m<module>\u001b[0;34m()\u001b[0m\n",
      "\u001b[0;31mAttributeError\u001b[0m: 'list' object has no attribute 'dtype'"
     ]
    }
   ],
   "source": [
    "%%nose\n",
    "\n",
    "d = ints.dtype\n",
    "\n",
    "def test_dtype():\n",
    "    assert d == np.int, 'Your arrays has the wrong dtype.'\n",
    "\n",
    "def test_values():\n",
    "    assert (ints > 5).all(), 'Every value should be greater than 5'"
   ]
  },
  {
   "cell_type": "markdown",
   "metadata": {},
   "source": [
    "The `_test_value()` function has a syntax error."
   ]
  },
  {
   "cell_type": "code",
   "execution_count": 24,
   "metadata": {
    "scrolled": false
   },
   "outputs": [
    {
     "ename": "SyntaxError",
     "evalue": "non-default argument follows default argument (<string>, line 6)",
     "output_type": "error",
     "traceback": [
      "Traceback \u001b[0;36m(most recent call last)\u001b[0m:\n",
      "  File \u001b[1;32m\"/Users/adefusco/Applications/miniconda3/envs/ipy_tests/lib/python3.6/site-packages/IPython/core/interactiveshell.py\"\u001b[0m, line \u001b[1;32m2910\u001b[0m, in \u001b[1;35mrun_code\u001b[0m\n    exec(code_obj, self.user_global_ns, self.user_ns)\n",
      "  File \u001b[1;32m\"<ipython-input-24-2095be3091f9>\"\u001b[0m, line \u001b[1;32m1\u001b[0m, in \u001b[1;35m<module>\u001b[0m\n    get_ipython().run_cell_magic('nose', '', \"\\ndef test_dtype():\\n    d = ints.dtype\\n    assert d == np.int, 'Your array has the wrong dtype.'\\n\\ndef _test_value(v, threshold=5, wrong):\\n    assert v > threshold, '{} is not greater than {}'.format(v, threshold)\\n        \\ndef test_values():\\n        \\n    for i in ints:\\n        yield _test_value, i\")\n",
      "  File \u001b[1;32m\"/Users/adefusco/Applications/miniconda3/envs/ipy_tests/lib/python3.6/site-packages/IPython/core/interactiveshell.py\"\u001b[0m, line \u001b[1;32m2131\u001b[0m, in \u001b[1;35mrun_cell_magic\u001b[0m\n    result = fn(magic_arg_s, cell)\n",
      "\u001b[0;36m  File \u001b[0;32m\"/Users/adefusco/Applications/miniconda3/envs/ipy_tests/lib/python3.6/site-packages/ipython_nose.py\"\u001b[0;36m, line \u001b[0;32m293\u001b[0;36m, in \u001b[0;35mnose\u001b[0;36m\u001b[0m\n\u001b[0;31m    exec(cell, test_module.__dict__)\u001b[0m\n",
      "\u001b[0;36m  File \u001b[0;32m\"<string>\"\u001b[0;36m, line \u001b[0;32m6\u001b[0m\n\u001b[0;31mSyntaxError\u001b[0m\u001b[0;31m:\u001b[0m non-default argument follows default argument\n"
     ]
    }
   ],
   "source": [
    "%%nose\n",
    "\n",
    "def test_dtype():\n",
    "    d = ints.dtype\n",
    "    assert d == np.int, 'Your array has the wrong dtype.'\n",
    "\n",
    "def _test_value(v, threshold=5, wrong):\n",
    "    assert v > threshold, '{} is not greater than {}'.format(v, threshold)\n",
    "        \n",
    "def test_values():\n",
    "        \n",
    "    for i in ints:\n",
    "        yield _test_value, i"
   ]
  }
 ],
 "metadata": {
  "kernelspec": {
   "display_name": "Python 3",
   "language": "python",
   "name": "python3"
  },
  "language_info": {
   "codemirror_mode": {
    "name": "ipython",
    "version": 3
   },
   "file_extension": ".py",
   "mimetype": "text/x-python",
   "name": "python",
   "nbconvert_exporter": "python",
   "pygments_lexer": "ipython3",
   "version": "3.6.4"
  }
 },
 "nbformat": 4,
 "nbformat_minor": 2
}
