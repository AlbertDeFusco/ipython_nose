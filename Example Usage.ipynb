{
 "metadata": {
  "name": "Example Usage"
 },
 "nbformat": 3,
 "nbformat_minor": 0,
 "worksheets": [
  {
   "cells": [
    {
     "cell_type": "code",
     "collapsed": false,
     "input": [
      "%load_ext ipython_nose\n",
      "# %reload_ext ipython_nose"
     ],
     "language": "python",
     "metadata": {},
     "outputs": [
      {
       "output_type": "pyout",
       "prompt_number": 34,
       "text": [
        "<module 'ipython_nose' from '/Users/taavi/src/ipython-nose/ipython_nose.py'>"
       ]
      }
     ],
     "prompt_number": 34
    },
    {
     "cell_type": "code",
     "collapsed": false,
     "input": [
      "%nose"
     ],
     "language": "python",
     "metadata": {},
     "outputs": [
      {
       "html": [
        "<div style=\"clear:both;\">\n",
        "                <div style=\"color: white; background:red; width:20%; float:left;\">FAIL</div>\n",
        "                <div style=\"color: white; background:green; width:100px; float:left;\">PASS</div>\n",
        "                </div><div style=\"clear:both;\"></div>\n",
        "                <h2 style=\"color:red\">Errors</h2><table></table>\n",
        "                <h2 style=\"color:red\">Failures</h2><table><tr><td>__main__.test_bar</td><td><pre>Traceback (most recent call last):\n",
        "  File \"/Users/taavi/src/nose/nose/case.py\", line 197, in runTest\n",
        "    self.test(*self.arg)\n",
        "  File \"&lt;ipython-input-45-f95f1ef8e28b&gt;\", line 5, in test_bar\n",
        "    assert False\n",
        "AssertionError\n",
        "</pre></td><tr><td>__main__.test_generate(0,)</td><td><pre>Traceback (most recent call last):\n",
        "  File \"/Users/taavi/src/nose/nose/case.py\", line 197, in runTest\n",
        "    self.test(*self.arg)\n",
        "  File \"&lt;ipython-input-45-f95f1ef8e28b&gt;\", line 12, in fail\n",
        "    raise AssertionError(\"Failed\")\n",
        "AssertionError: Failed\n",
        "</pre></td></table>"
       ],
       "output_type": "pyout",
       "prompt_number": 48,
       "text": [
        "<ipython_nose.MyResult run=12 errors=0 failures=2>"
       ]
      }
     ],
     "prompt_number": 48
    },
    {
     "cell_type": "code",
     "collapsed": false,
     "input": [
      "def test_foo():\n",
      "    assert True\n",
      "    \n",
      "def test_bar():\n",
      "    assert False\n",
      "    \n",
      "import random\n",
      "def test_generate():\n",
      "    for _ in range(random.randint(0, 10)):\n",
      "        yield lambda x: None, _\n",
      "    def fail(x):\n",
      "        raise AssertionError(\"Failed\")\n",
      "    for _ in range(random.randint(0, 10)):\n",
      "        yield fail, _"
     ],
     "language": "python",
     "metadata": {},
     "outputs": [],
     "prompt_number": 45
    },
    {
     "cell_type": "code",
     "collapsed": false,
     "input": [],
     "language": "python",
     "metadata": {},
     "outputs": []
    }
   ],
   "metadata": {}
  }
 ]
}