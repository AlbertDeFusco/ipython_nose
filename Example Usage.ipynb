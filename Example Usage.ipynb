{
 "metadata": {
  "name": "Example Usage"
 },
 "nbformat": 3,
 "nbformat_minor": 0,
 "worksheets": [
  {
   "cells": [
    {
     "cell_type": "code",
     "collapsed": false,
     "input": [
      "%load_ext ipython_nose\n",
      "# %reload_ext ipython_nose"
     ],
     "language": "python",
     "metadata": {},
     "outputs": [],
     "prompt_number": 1
    },
    {
     "cell_type": "code",
     "collapsed": false,
     "input": [
      "%nose"
     ],
     "language": "python",
     "metadata": {},
     "outputs": [
      {
       "html": [
        "    <style type=\"text/css\">\n",
        "        span.nosefailedfunc {\n",
        "            font-family: monospace;\n",
        "            font-weight: bold;\n",
        "        }\n",
        "        div.noseresults {\n",
        "            width: 100%;\n",
        "        }\n",
        "        div.nosefailbar {\n",
        "            background: red;\n",
        "            float: left;\n",
        "            padding: 1ex 0px 1ex 0px;\n",
        "        }\n",
        "        div.nosepassbar {\n",
        "            background: green;\n",
        "            float: left;\n",
        "            padding: 1ex 0px 1ex 0px;\n",
        "        }\n",
        "        div.nosefailbanner {\n",
        "            width: 75%;\n",
        "            background: red;\n",
        "            padding: 0.5ex 0em 0.5ex 1em;\n",
        "            margin-top: 1ex;\n",
        "            margin-bottom: 0px;\n",
        "        }\n",
        "        pre.nosetraceback {\n",
        "            background: pink;\n",
        "            padding-left: 1em;\n",
        "            margin-left: 0px;\n",
        "            margin-top: 0px;\n",
        "            display: none;\n",
        "        }\n",
        "    </style>\n",
        "    \n",
        "    <script>\n",
        "        setTimeout(function () {\n",
        "            $('.nosefailtoggle').bind(\n",
        "                'click',\n",
        "                function () {\n",
        "                    $(\n",
        "                        $(this)\n",
        "                            .parent()\n",
        "                            .parent()\n",
        "                            .children()\n",
        "                            .filter('.nosetraceback')\n",
        "                    ).toggle();\n",
        "                }\n",
        "            );},\n",
        "            0);\n",
        "    </script>\n",
        "    \n",
        "<div class=\"noseresults\">\n",
        "  <div class=\"nosefailbar\" style=\"width: 14%\">&nbsp;</div>\n",
        "  <div class=\"nosepassbar\" style=\"width: 86%\">&nbsp;</div>\n",
        "  6/7 tests passed; 1 failed\n",
        "</div>\n",
        "\n",
        "<div class=\"nosefailure\">\n",
        "    <div class=\"nosefailbanner\">\n",
        "      failed: <span class=\"nosefailedfunc\">__main__.test_bar</span>\n",
        "        [<a class=\"nosefailtoggle\" href=\"#\">toggle traceback</a>]\n",
        "    </div>\n",
        "    <pre class=\"nosetraceback\">Traceback (most recent call last):\n",
        "  File \"/Users/taavi/src/nose/nose/case.py\", line 197, in runTest\n",
        "    self.test(*self.arg)\n",
        "  File \"&lt;ipython-input-3-f95f1ef8e28b&gt;\", line 5, in test_bar\n",
        "    assert False\n",
        "AssertionError\n",
        "</pre>\n",
        "</div>\n"
       ],
       "output_type": "pyout",
       "prompt_number": 4,
       "text": [
        "<ipython_nose.TestResult run=7 errors=0 failures=1>"
       ]
      }
     ],
     "prompt_number": 4
    },
    {
     "cell_type": "code",
     "collapsed": false,
     "input": [
      "def test_foo():\n",
      "    assert True\n",
      "    \n",
      "def test_bar():\n",
      "    assert False\n",
      "    \n",
      "import random\n",
      "def test_generate():\n",
      "    for _ in range(random.randint(0, 10)):\n",
      "        yield lambda x: None, _\n",
      "    def fail(x):\n",
      "        raise AssertionError(\"Failed\")\n",
      "    for _ in range(random.randint(0, 10)):\n",
      "        yield fail, _"
     ],
     "language": "python",
     "metadata": {},
     "outputs": [],
     "prompt_number": 3
    },
    {
     "cell_type": "code",
     "collapsed": false,
     "input": [],
     "language": "python",
     "metadata": {},
     "outputs": [],
     "prompt_number": 3
    }
   ],
   "metadata": {}
  }
 ]
}